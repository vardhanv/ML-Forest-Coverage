{
 "cells": [
  {
   "cell_type": "markdown",
   "metadata": {
    "deletable": true,
    "editable": true
   },
   "source": [
    "# Analyze Forest Coverage"
   ]
  },
  {
   "cell_type": "markdown",
   "metadata": {
    "deletable": true,
    "editable": true
   },
   "source": [
    "### Only for jupyter notebook (remove this cell in databrics)"
   ]
  },
  {
   "cell_type": "code",
   "execution_count": 1,
   "metadata": {
    "collapsed": false,
    "deletable": true,
    "editable": true
   },
   "outputs": [],
   "source": [
    "import findspark\n",
    "findspark.init()\n",
    "\n",
    "import pyspark\n",
    "sc = pyspark.SparkContext()"
   ]
  },
  {
   "cell_type": "code",
   "execution_count": 3,
   "metadata": {
    "collapsed": true,
    "deletable": true,
    "editable": true
   },
   "outputs": [],
   "source": [
    "from pyspark.ml.classification import RandomForestClassifier\n",
    "from pyspark.ml.classification import DecisionTreeClassifier\n",
    "from pyspark.ml.classification import LogisticRegression\n",
    "\n",
    "from pyspark.ml.evaluation import MulticlassClassificationEvaluator\n",
    "from pyspark.ml.feature import VectorAssembler"
   ]
  },
  {
   "cell_type": "markdown",
   "metadata": {
    "deletable": true,
    "editable": true
   },
   "source": [
    "#### Load the data into an RDD"
   ]
  },
  {
   "cell_type": "code",
   "execution_count": 11,
   "metadata": {
    "collapsed": false,
    "deletable": true,
    "editable": true
   },
   "outputs": [
    {
     "name": "stdout",
     "output_type": "stream",
     "text": [
      "581012\n"
     ]
    },
    {
     "data": {
      "text/plain": [
       "['2596,51,3,258,0,510,221,232,148,6279,1,0,0,0,0,0,0,0,0,0,0,0,0,0,0,0,0,0,0,0,0,0,0,0,0,0,0,0,0,0,0,0,1,0,0,0,0,0,0,0,0,0,0,0,5',\n",
       " '2590,56,2,212,-6,390,220,235,151,6225,1,0,0,0,0,0,0,0,0,0,0,0,0,0,0,0,0,0,0,0,0,0,0,0,0,0,0,0,0,0,0,0,1,0,0,0,0,0,0,0,0,0,0,0,5',\n",
       " '2804,139,9,268,65,3180,234,238,135,6121,1,0,0,0,0,0,0,0,0,0,0,0,0,0,0,1,0,0,0,0,0,0,0,0,0,0,0,0,0,0,0,0,0,0,0,0,0,0,0,0,0,0,0,0,2',\n",
       " '2785,155,18,242,118,3090,238,238,122,6211,1,0,0,0,0,0,0,0,0,0,0,0,0,0,0,0,0,0,0,0,0,0,0,0,0,0,0,0,0,0,0,0,0,1,0,0,0,0,0,0,0,0,0,0,2',\n",
       " '2595,45,2,153,-1,391,220,234,150,6172,1,0,0,0,0,0,0,0,0,0,0,0,0,0,0,0,0,0,0,0,0,0,0,0,0,0,0,0,0,0,0,0,1,0,0,0,0,0,0,0,0,0,0,0,5']"
      ]
     },
     "execution_count": 11,
     "metadata": {},
     "output_type": "execute_result"
    }
   ],
   "source": [
    "#read txt file, gzipped files will be auto-unzipped\n",
    "myDataRDD = sc.textFile(\"covtype.data.gz\")\n",
    "myReadmeRDD = sc.textFile(\"covtype.info\")\n",
    "\n",
    "print (myDataRDD.count())\n",
    "myDataRDD.take(5)"
   ]
  },
  {
   "cell_type": "markdown",
   "metadata": {
    "deletable": true,
    "editable": true
   },
   "source": [
    "#### Readme File"
   ]
  },
  {
   "cell_type": "code",
   "execution_count": 11,
   "metadata": {
    "collapsed": false,
    "deletable": true,
    "editable": true
   },
   "outputs": [
    {
     "ename": "SyntaxError",
     "evalue": "Missing parentheses in call to 'print' (<ipython-input-11-cc82b96e3a83>, line 2)",
     "output_type": "error",
     "traceback": [
      "\u001b[0;36m  File \u001b[0;32m\"<ipython-input-11-cc82b96e3a83>\"\u001b[0;36m, line \u001b[0;32m2\u001b[0m\n\u001b[0;31m    print l\u001b[0m\n\u001b[0m          ^\u001b[0m\n\u001b[0;31mSyntaxError\u001b[0m\u001b[0;31m:\u001b[0m Missing parentheses in call to 'print'\n"
     ]
    }
   ],
   "source": [
    "for l in myReadmeRDD.collect():\n",
    "  print l\n",
    "  "
   ]
  },
  {
   "cell_type": "code",
   "execution_count": 9,
   "metadata": {
    "collapsed": true,
    "deletable": true,
    "editable": true
   },
   "outputs": [],
   "source": [
    "myCleanData = myDataRDD.map(lambda l: [long(i) for i in l.replace(\" \",\"\").split(',')])\n",
    "myCleanData.count()"
   ]
  },
  {
   "cell_type": "code",
   "execution_count": 10,
   "metadata": {
    "collapsed": true,
    "deletable": true,
    "editable": true
   },
   "outputs": [],
   "source": [
    "# Lets create the schema\n",
    "QuantFields = [ \"Elevation\", \"Aspect\" , \"Slope\", \"HD_To_Hydrlgy\", \"VD_To_Hydrlgy\", \"HD_To_Rdwys\", \"Hllshd_9am\", \"Hllshd_Noon\", \"Hllshd_3pm\", \"HD_To_Fire_Pnts\"]\n",
    "WildernessArea = [\"WA\"+str(i) for i in range(1,5)]\n",
    "SoilType = [\"S\"+str(i) for i in range(1,41)]\n",
    "schema = QuantFields + WildernessArea + SoilType + [\"Cover_Type\"]\n",
    "len(schema)"
   ]
  },
  {
   "cell_type": "code",
   "execution_count": 11,
   "metadata": {
    "collapsed": true,
    "deletable": true,
    "editable": true
   },
   "outputs": [],
   "source": [
    "#create the dataframe, and re-label columns\n",
    "myDF = myCleanData.toDF()\n",
    "oldCol = myDF.schema.names\n",
    "\n",
    "for i in range(0,len(schema)):\n",
    "  myDF = myDF.withColumnRenamed(oldCol[i],schema[i]) \n",
    "  \n",
    "myDF.take(1)"
   ]
  },
  {
   "cell_type": "code",
   "execution_count": 12,
   "metadata": {
    "collapsed": true,
    "deletable": true,
    "editable": true
   },
   "outputs": [],
   "source": [
    "# Quantitative Fields\n",
    "quantSmry = myDF.select(QuantFields).describe()\n",
    "quantSmry.show()"
   ]
  },
  {
   "cell_type": "code",
   "execution_count": 13,
   "metadata": {
    "collapsed": true,
    "deletable": true,
    "editable": true
   },
   "outputs": [],
   "source": [
    "# Wilderness Area\n",
    "\n",
    "display(myDF.groupBy(WildernessArea).count().orderBy(\"count\", ascending = False))"
   ]
  },
  {
   "cell_type": "code",
   "execution_count": 14,
   "metadata": {
    "collapsed": true,
    "deletable": true,
    "editable": true
   },
   "outputs": [],
   "source": [
    "# SoilType\n",
    "\n",
    "soilGB = myDF.groupBy(SoilType)\n",
    "\n",
    "display(soilGB.count().orderBy(\"count\", ascending = False))"
   ]
  },
  {
   "cell_type": "code",
   "execution_count": 15,
   "metadata": {
    "collapsed": true,
    "deletable": true,
    "editable": true
   },
   "outputs": [],
   "source": [
    "# Assemble the data we want to train\n",
    "assembler =  VectorAssembler(inputCols = schema[:-1], outputCol = \"features\")\n",
    "data = assembler.transform(myDF).select([\"features\", schema[-1]])\n",
    "data.show(3)"
   ]
  },
  {
   "cell_type": "code",
   "execution_count": 16,
   "metadata": {
    "collapsed": true,
    "deletable": true,
    "editable": true
   },
   "outputs": [],
   "source": [
    "(trainingData, testData) = data.randomSplit([0.7,0.3])\n",
    "trainingData.count()"
   ]
  },
  {
   "cell_type": "code",
   "execution_count": 17,
   "metadata": {
    "collapsed": true,
    "deletable": true,
    "editable": true
   },
   "outputs": [],
   "source": [
    "rf = RandomForestClassifier()\\\n",
    "          .setFeaturesCol(\"features\")\\\n",
    "          .setLabelCol(\"Cover_Type\")\\\n",
    "          .setMaxBins(50)\\\n",
    "          .setMaxDepth(10)\\\n",
    "          .setNumTrees(20)\n",
    "          \n",
    "model = rf.fit(trainingData)"
   ]
  },
  {
   "cell_type": "code",
   "execution_count": 18,
   "metadata": {
    "collapsed": true,
    "deletable": true,
    "editable": true
   },
   "outputs": [],
   "source": [
    "def getAccuracy(x):\n",
    "   prediction = x.transform(testData)\n",
    "   accuracy = MulticlassClassificationEvaluator(labelCol=\"Cover_Type\").evaluate(prediction)\n",
    "   return accuracy\n",
    " \n",
    "\n",
    "rfAccuracy = getAccuracy(model) * 100\n",
    "print \"Accuracy = %.2f%%\" % rfAccuracy"
   ]
  },
  {
   "cell_type": "code",
   "execution_count": 19,
   "metadata": {
    "collapsed": true,
    "deletable": true,
    "editable": true
   },
   "outputs": [],
   "source": [
    "dtc =  DecisionTreeClassifier(probabilityCol=\"probability\", maxDepth=10, maxBins=50) \\\n",
    "          .setFeaturesCol(\"features\")\\\n",
    "          .setLabelCol(\"Cover_Type\")"
   ]
  },
  {
   "cell_type": "code",
   "execution_count": 20,
   "metadata": {
    "collapsed": true,
    "deletable": true,
    "editable": true
   },
   "outputs": [],
   "source": [
    "dtcModel = dtc.fit(trainingData)"
   ]
  },
  {
   "cell_type": "code",
   "execution_count": 21,
   "metadata": {
    "collapsed": true,
    "deletable": true,
    "editable": true
   },
   "outputs": [],
   "source": [
    "dtcAccuracy = getAccuracy(dtcModel) * 100\n",
    "print \"Accuracy = %.2f%%\" % dtcAccuracy"
   ]
  },
  {
   "cell_type": "code",
   "execution_count": 22,
   "metadata": {
    "collapsed": true,
    "deletable": true,
    "editable": true
   },
   "outputs": [],
   "source": [
    "log = LogisticRegression(maxIter=10)\\\n",
    "                        .setFeaturesCol(\"features\")\\\n",
    "                        .setLabelCol(\"Cover_Type\")\n",
    "\n",
    "logModel = log.fit(trainingData)\n",
    "logAccuracy = getAccuracy(logModel) * 100\n",
    "print \"Accuracy = %.2f%%\" % logAccuracy\n"
   ]
  },
  {
   "cell_type": "code",
   "execution_count": 23,
   "metadata": {
    "collapsed": true,
    "deletable": true,
    "editable": true
   },
   "outputs": [],
   "source": [
    "\n",
    "print \"+----------Final Comparision of Different Classifiers ------------\"\n",
    "print \"Random Forest Classifier Accuracy = %.2f%%\" % rfAccuracy\n",
    "print \"Decision Tree Classifier Accuracy = %.2f%%\" % dtcAccuracy\n",
    "print \"Logistic Regression Accuracy      = %.2f%%\" % logAccuracy\n",
    "print \"+-----------------------------------------------------------------\""
   ]
  },
  {
   "cell_type": "code",
   "execution_count": 24,
   "metadata": {
    "collapsed": true,
    "deletable": true,
    "editable": true
   },
   "outputs": [],
   "source": []
  }
 ],
 "metadata": {
  "kernelspec": {
   "display_name": "Python 3",
   "language": "python",
   "name": "python3"
  },
  "language_info": {
   "codemirror_mode": {
    "name": "ipython",
    "version": 3
   },
   "file_extension": ".py",
   "mimetype": "text/x-python",
   "name": "python",
   "nbconvert_exporter": "python",
   "pygments_lexer": "ipython3",
   "version": "3.5.2"
  },
  "name": "Py PROBLEMS Assignment 2",
  "notebookId": 640588572519807
 },
 "nbformat": 4,
 "nbformat_minor": 0
}
